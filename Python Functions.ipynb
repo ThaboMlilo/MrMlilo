{
 "cells": [
  {
   "cell_type": "code",
   "execution_count": 1,
   "metadata": {},
   "outputs": [],
   "source": [
    "def sum(x,y):  # x, y are parameters\n",
    "    print(x + y)\n",
    "\n",
    "    sum(4,5)  # 4,5 are arguments"
   ]
  },
  {
   "cell_type": "code",
   "execution_count": null,
   "metadata": {},
   "outputs": [],
   "source": []
  },
  {
   "cell_type": "code",
   "execution_count": 3,
   "metadata": {},
   "outputs": [
    {
     "name": "stdout",
     "output_type": "stream",
     "text": [
      "Hello Bluelime\n",
      "Hello John\n",
      "Hello Jane\n"
     ]
    }
   ],
   "source": [
    "def student_names(names=\"Bluelime\"):\n",
    "    print(\"Hello \" + names)\n",
    "    \n",
    "    # calling the function with and without arguments\n",
    "student_names()\n",
    "student_names(\"John\")\n",
    "student_names(\"Jane\")"
   ]
  },
  {
   "cell_type": "code",
   "execution_count": null,
   "metadata": {},
   "outputs": [],
   "source": [
    "_"
   ]
  }
 ],
 "metadata": {
  "kernelspec": {
   "display_name": "Python 3",
   "language": "python",
   "name": "python3"
  },
  "language_info": {
   "codemirror_mode": {
    "name": "ipython",
    "version": 3
   },
   "file_extension": ".py",
   "mimetype": "text/x-python",
   "name": "python",
   "nbconvert_exporter": "python",
   "pygments_lexer": "ipython3",
   "version": "3.7.6"
  }
 },
 "nbformat": 4,
 "nbformat_minor": 4
}
